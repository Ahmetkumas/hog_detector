{
 "cells": [
  {
   "cell_type": "code",
   "execution_count": null,
   "metadata": {},
   "outputs": [],
   "source": [
    "from skimage.feature import hog\n",
    "from sklearn.preprocessing import LabelEncoder\n",
    "from sklearn.svm import LinearSVC\n",
    "from sklearn.model_selection import train_test_split\n",
    "import numpy as np\n",
    "import pickle\n",
    "import cv2\n",
    "import os"
   ]
  },
  {
   "cell_type": "code",
   "execution_count": null,
   "metadata": {},
   "outputs": [],
   "source": [
    "ORIENTATIONS = 9\n",
    "PIXEL_CELS = (8, 8)\n",
    "CELLS_PER_BLOCK = (2, 2)"
   ]
  },
  {
   "cell_type": "code",
   "execution_count": null,
   "metadata": {},
   "outputs": [],
   "source": [
    "pos_im_path = \"positive_data\"\n",
    "neg_im_path= \"negative_data\"\n",
    "\n",
    "pos_im_listing = os.listdir(pos_im_path)\n",
    "neg_im_listing = os.listdir(neg_im_path)\n",
    "print(\"Number of positive samples\", len(pos_im_listing))\n",
    "print(\"Number of negative samples\", len(neg_im_listing))\n",
    "\n",
    "data = []\n",
    "labels = []"
   ]
  },
  {
   "cell_type": "code",
   "execution_count": null,
   "metadata": {},
   "outputs": [],
   "source": [
    "for file in pos_im_listing:\n",
    "    img = cv2.imread(pos_im_path + '\\\\' + file, 0)\n",
    "    img = img.resize((64,128))\n",
    "\n",
    "    fd = hog(gray, ORIENTATIONS, PIXEL_CELS, CELLS_PER_BLOCK, block_norm='L2', feature_vector=True)\n",
    "    data.append(fd)\n",
    "    labels.append(1)"
   ]
  },
  {
   "cell_type": "code",
   "execution_count": null,
   "metadata": {},
   "outputs": [],
   "source": [
    "for file in neg_im_listing:\n",
    "    img = cv2.imread(neg_im_path + '\\\\' + file, 0)\n",
    "    img = img.resize((64,128))\n",
    "    \n",
    "    fd = hog(gray, ORIENTATIONS, PIXEL_CELS, CELLS_PER_BLOCK, block_norm='L2', feature_vector=True) \n",
    "    data.append(fd)\n",
    "    labels.append(0)"
   ]
  },
  {
   "cell_type": "code",
   "execution_count": null,
   "metadata": {},
   "outputs": [],
   "source": [
    "le = LabelEncoder()\n",
    "labels = le.fit_transform(labels)"
   ]
  },
  {
   "cell_type": "code",
   "execution_count": null,
   "metadata": {},
   "outputs": [],
   "source": [
    "(trainData, testData, trainLabels, testLabels) = train_test_split(np.array(data), labels, test_size=0.10, random_state=42)"
   ]
  },
  {
   "cell_type": "code",
   "execution_count": null,
   "metadata": {},
   "outputs": [],
   "source": [
    "# Train the model using hog features\n",
    "model = LinearSVC()\n",
    "model.fit(trainData, trainLabels)\n",
    "predictions = model.predict(testData)"
   ]
  },
  {
   "cell_type": "code",
   "execution_count": null,
   "metadata": {},
   "outputs": [],
   "source": [
    "# Save the model\n",
    "filename = 'finalized_model.pickle'\n",
    "pickle.dump(model, open(filename, 'wb'))"
   ]
  }
 ],
 "metadata": {
  "kernelspec": {
   "display_name": "Python 3",
   "language": "python",
   "name": "python3"
  },
  "language_info": {
   "codemirror_mode": {
    "name": "ipython",
    "version": 3
   },
   "file_extension": ".py",
   "mimetype": "text/x-python",
   "name": "python",
   "nbconvert_exporter": "python",
   "pygments_lexer": "ipython3",
   "version": "3.7.4"
  }
 },
 "nbformat": 4,
 "nbformat_minor": 2
}
